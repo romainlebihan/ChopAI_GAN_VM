{
 "cells": [
  {
   "cell_type": "code",
   "execution_count": 1,
   "metadata": {},
   "outputs": [
    {
     "name": "stderr",
     "output_type": "stream",
     "text": [
      "2023-09-13 15:22:28.531560: I tensorflow/core/util/port.cc:110] oneDNN custom operations are on. You may see slightly different numerical results due to floating-point round-off errors from different computation orders. To turn them off, set the environment variable `TF_ENABLE_ONEDNN_OPTS=0`.\n",
      "2023-09-13 15:22:28.534911: I tensorflow/tsl/cuda/cudart_stub.cc:28] Could not find cuda drivers on your machine, GPU will not be used.\n",
      "2023-09-13 15:22:28.610386: I tensorflow/tsl/cuda/cudart_stub.cc:28] Could not find cuda drivers on your machine, GPU will not be used.\n",
      "2023-09-13 15:22:28.613120: I tensorflow/core/platform/cpu_feature_guard.cc:182] This TensorFlow binary is optimized to use available CPU instructions in performance-critical operations.\n",
      "To enable the following instructions: AVX2 AVX512F AVX512_VNNI FMA, in other operations, rebuild TensorFlow with the appropriate compiler flags.\n",
      "2023-09-13 15:22:29.840623: W tensorflow/compiler/tf2tensorrt/utils/py_utils.cc:38] TF-TRT Warning: Could not find TensorRT\n"
     ]
    }
   ],
   "source": [
    "# Data manipulation\n",
    "import numpy as np\n",
    "import pandas as pd\n",
    "\n",
    "# Data Visualiation\n",
    "import matplotlib.pyplot as plt\n",
    "import seaborn as sns\n",
    "\n",
    "# System\n",
    "import os\n",
    "\n",
    "# Performance metrics\n",
    "from sklearn.metrics import mean_squared_error, mean_absolute_error\n",
    "\n",
    "from preprocessing import create_and_preprocess_X_y, create_train_test_set\n",
    "from model import create_y_pred_baseline, calculate_metric, baseline_metric_score\n",
    "\n",
    "\n",
    "# Tensorflow\n",
    "import tensorflow as tf\n",
    "from tensorflow import keras\n",
    "from tensorflow.keras import layers, Sequential\n",
    "\n",
    "from sklearn.preprocessing import MinMaxScaler\n",
    "\n",
    "from tensorflow.keras.preprocessing.sequence import pad_sequences\n",
    "\n",
    "from tensorflow.keras.layers import LSTM, Flatten, Dense"
   ]
  },
  {
   "cell_type": "code",
   "execution_count": 2,
   "metadata": {},
   "outputs": [
    {
     "data": {
      "text/plain": [
       "0.04497379454476886"
      ]
     },
     "execution_count": 2,
     "metadata": {},
     "output_type": "execute_result"
    }
   ],
   "source": [
    "metrics_baseline = baseline_metric_score()\n",
    "metrics_baseline"
   ]
  },
  {
   "cell_type": "code",
   "execution_count": 3,
   "metadata": {},
   "outputs": [],
   "source": [
    "# Load and preprocess the data using create_and_preprocess_X_y()\n",
    "X, y = create_and_preprocess_X_y()"
   ]
  },
  {
   "cell_type": "code",
   "execution_count": 4,
   "metadata": {},
   "outputs": [
    {
     "data": {
      "text/plain": [
       "((88, 7400, 106), (88, 100, 106))"
      ]
     },
     "execution_count": 4,
     "metadata": {},
     "output_type": "execute_result"
    }
   ],
   "source": [
    "X.shape, y.shape"
   ]
  },
  {
   "cell_type": "code",
   "execution_count": 5,
   "metadata": {},
   "outputs": [],
   "source": [
    "# Split the data into train and test sets using create_train_test_set()\n",
    "X_train, X_test, y_train, y_test = create_train_test_set(X, y, train_size=0.8)"
   ]
  },
  {
   "cell_type": "code",
   "execution_count": 6,
   "metadata": {},
   "outputs": [
    {
     "data": {
      "text/plain": [
       "((70, 7400, 106), (18, 7400, 106), (70, 100, 106), (18, 100, 106))"
      ]
     },
     "execution_count": 6,
     "metadata": {},
     "output_type": "execute_result"
    }
   ],
   "source": [
    "X_train.shape, X_test.shape, y_train.shape, y_test.shape"
   ]
  },
  {
   "cell_type": "code",
   "execution_count": 7,
   "metadata": {},
   "outputs": [],
   "source": [
    "# Define the LSTM model\n",
    "model = Sequential([\n",
    "    layers.Masking(mask_value=-1, input_shape=(X_train.shape[1], X_train.shape[2])),\n",
    "    layers.LSTM(units=64, activation ='tanh', return_sequences=True),\n",
    "    layers.LSTM(units=64, activation ='tanh', return_sequences=False),\n",
    "    layers.RepeatVector(100),\n",
    "    layers.TimeDistributed(layers.Dense(units=106, activation = \"softmax\"))\n",
    "])"
   ]
  },
  {
   "cell_type": "code",
   "execution_count": 8,
   "metadata": {},
   "outputs": [
    {
     "name": "stdout",
     "output_type": "stream",
     "text": [
      "Model: \"sequential\"\n",
      "_________________________________________________________________\n",
      " Layer (type)                Output Shape              Param #   \n",
      "=================================================================\n",
      " masking (Masking)           (None, 7400, 106)         0         \n",
      "                                                                 \n",
      " lstm (LSTM)                 (None, 7400, 64)          43776     \n",
      "                                                                 \n",
      " lstm_1 (LSTM)               (None, 64)                33024     \n",
      "                                                                 \n",
      " repeat_vector (RepeatVecto  (None, 100, 64)           0         \n",
      " r)                                                              \n",
      "                                                                 \n",
      " time_distributed (TimeDist  (None, 100, 106)          6890      \n",
      " ributed)                                                        \n",
      "                                                                 \n",
      "=================================================================\n",
      "Total params: 83690 (326.91 KB)\n",
      "Trainable params: 83690 (326.91 KB)\n",
      "Non-trainable params: 0 (0.00 Byte)\n",
      "_________________________________________________________________\n"
     ]
    }
   ],
   "source": [
    "model.summary()"
   ]
  },
  {
   "cell_type": "code",
   "execution_count": 9,
   "metadata": {},
   "outputs": [],
   "source": [
    "# Compile the model\n",
    "model.compile(optimizer='rmsprop', loss='categorical_crossentropy', metrics=['accuracy'])"
   ]
  },
  {
   "cell_type": "code",
   "execution_count": 10,
   "metadata": {},
   "outputs": [
    {
     "name": "stdout",
     "output_type": "stream",
     "text": [
      "Epoch 1/10\n",
      "3/3 [==============================] - 58s 16s/step - loss: 12.4625 - accuracy: 0.0143\n",
      "Epoch 2/10\n",
      "3/3 [==============================] - 47s 15s/step - loss: 12.1937 - accuracy: 0.0150\n",
      "Epoch 3/10\n",
      "3/3 [==============================] - 47s 16s/step - loss: 11.5021 - accuracy: 0.0150\n",
      "Epoch 4/10\n",
      "3/3 [==============================] - 48s 16s/step - loss: 11.1120 - accuracy: 0.0150\n",
      "Epoch 5/10\n",
      "3/3 [==============================] - 48s 16s/step - loss: 10.8806 - accuracy: 0.0150\n",
      "Epoch 6/10\n",
      "3/3 [==============================] - 50s 15s/step - loss: 10.7293 - accuracy: 0.0150\n",
      "Epoch 7/10\n",
      "3/3 [==============================] - 52s 17s/step - loss: 10.6354 - accuracy: 0.0150\n",
      "Epoch 8/10\n",
      "3/3 [==============================] - 49s 16s/step - loss: 10.5670 - accuracy: 0.0150\n",
      "Epoch 9/10\n",
      "3/3 [==============================] - 51s 17s/step - loss: 10.5313 - accuracy: 0.0143\n",
      "Epoch 10/10\n",
      "3/3 [==============================] - 49s 16s/step - loss: 10.4973 - accuracy: 0.0137\n"
     ]
    },
    {
     "data": {
      "text/plain": [
       "<keras.src.callbacks.History at 0x7f9e24254160>"
      ]
     },
     "execution_count": 10,
     "metadata": {},
     "output_type": "execute_result"
    }
   ],
   "source": [
    "# Train the model\n",
    "model.fit(X_train, y_train, epochs=10, batch_size=32) "
   ]
  },
  {
   "cell_type": "code",
   "execution_count": 11,
   "metadata": {},
   "outputs": [
    {
     "name": "stdout",
     "output_type": "stream",
     "text": [
      "1/1 [==============================] - 6s 6s/step\n"
     ]
    }
   ],
   "source": [
    "# Make predictions test \n",
    "y_test_pred = model.predict(X_test)"
   ]
  },
  {
   "cell_type": "code",
   "execution_count": 12,
   "metadata": {},
   "outputs": [],
   "source": [
    "model_score = calculate_metric(y_test_pred, y_test)"
   ]
  },
  {
   "cell_type": "code",
   "execution_count": 13,
   "metadata": {},
   "outputs": [
    {
     "data": {
      "text/plain": [
       "0.9988852634790757"
      ]
     },
     "execution_count": 13,
     "metadata": {},
     "output_type": "execute_result"
    }
   ],
   "source": [
    "model_score"
   ]
  },
  {
   "cell_type": "code",
   "execution_count": 14,
   "metadata": {},
   "outputs": [
    {
     "data": {
      "text/plain": [
       "array([[[0.00046358, 0.00100522, 0.00060932, ..., 0.00049613,\n",
       "         0.00119841, 0.00059873],\n",
       "        [0.00046358, 0.00100522, 0.00060932, ..., 0.00049613,\n",
       "         0.00119841, 0.00059873],\n",
       "        [0.00046358, 0.00100522, 0.00060932, ..., 0.00049613,\n",
       "         0.00119841, 0.00059873],\n",
       "        ...,\n",
       "        [0.00046358, 0.00100522, 0.00060932, ..., 0.00049613,\n",
       "         0.00119841, 0.00059873],\n",
       "        [0.00046358, 0.00100522, 0.00060932, ..., 0.00049613,\n",
       "         0.00119841, 0.00059873],\n",
       "        [0.00046358, 0.00100522, 0.00060932, ..., 0.00049613,\n",
       "         0.00119841, 0.00059873]],\n",
       "\n",
       "       [[0.00045798, 0.00099682, 0.00060569, ..., 0.0004923 ,\n",
       "         0.00118734, 0.00059175],\n",
       "        [0.00045798, 0.00099682, 0.00060569, ..., 0.0004923 ,\n",
       "         0.00118734, 0.00059175],\n",
       "        [0.00045798, 0.00099682, 0.00060569, ..., 0.0004923 ,\n",
       "         0.00118734, 0.00059175],\n",
       "        ...,\n",
       "        [0.00045798, 0.00099682, 0.00060569, ..., 0.0004923 ,\n",
       "         0.00118734, 0.00059175],\n",
       "        [0.00045798, 0.00099682, 0.00060569, ..., 0.0004923 ,\n",
       "         0.00118734, 0.00059175],\n",
       "        [0.00045798, 0.00099682, 0.00060569, ..., 0.0004923 ,\n",
       "         0.00118734, 0.00059175]],\n",
       "\n",
       "       [[0.00046185, 0.00100011, 0.00060784, ..., 0.00049447,\n",
       "         0.00120148, 0.0005936 ],\n",
       "        [0.00046185, 0.00100011, 0.00060784, ..., 0.00049447,\n",
       "         0.00120148, 0.0005936 ],\n",
       "        [0.00046185, 0.00100011, 0.00060784, ..., 0.00049447,\n",
       "         0.00120148, 0.0005936 ],\n",
       "        ...,\n",
       "        [0.00046185, 0.00100011, 0.00060784, ..., 0.00049447,\n",
       "         0.00120148, 0.0005936 ],\n",
       "        [0.00046185, 0.00100011, 0.00060784, ..., 0.00049447,\n",
       "         0.00120148, 0.0005936 ],\n",
       "        [0.00046185, 0.00100011, 0.00060784, ..., 0.00049447,\n",
       "         0.00120148, 0.0005936 ]],\n",
       "\n",
       "       ...,\n",
       "\n",
       "       [[0.00045698, 0.00096244, 0.00060632, ..., 0.00047537,\n",
       "         0.00117923, 0.00058119],\n",
       "        [0.00045698, 0.00096244, 0.00060632, ..., 0.00047537,\n",
       "         0.00117923, 0.00058119],\n",
       "        [0.00045698, 0.00096244, 0.00060632, ..., 0.00047537,\n",
       "         0.00117923, 0.00058119],\n",
       "        ...,\n",
       "        [0.00045698, 0.00096244, 0.00060632, ..., 0.00047537,\n",
       "         0.00117923, 0.00058119],\n",
       "        [0.00045698, 0.00096244, 0.00060632, ..., 0.00047537,\n",
       "         0.00117923, 0.00058119],\n",
       "        [0.00045698, 0.00096244, 0.00060632, ..., 0.00047537,\n",
       "         0.00117923, 0.00058119]],\n",
       "\n",
       "       [[0.00045925, 0.00099052, 0.00060737, ..., 0.00048734,\n",
       "         0.00119109, 0.00059261],\n",
       "        [0.00045925, 0.00099052, 0.00060737, ..., 0.00048734,\n",
       "         0.00119109, 0.00059261],\n",
       "        [0.00045925, 0.00099052, 0.00060737, ..., 0.00048734,\n",
       "         0.00119109, 0.00059261],\n",
       "        ...,\n",
       "        [0.00045925, 0.00099052, 0.00060737, ..., 0.00048734,\n",
       "         0.00119109, 0.00059261],\n",
       "        [0.00045925, 0.00099052, 0.00060737, ..., 0.00048734,\n",
       "         0.00119109, 0.00059261],\n",
       "        [0.00045925, 0.00099052, 0.00060737, ..., 0.00048734,\n",
       "         0.00119109, 0.00059261]],\n",
       "\n",
       "       [[0.00046054, 0.00100889, 0.00060507, ..., 0.00048977,\n",
       "         0.0011859 , 0.0005929 ],\n",
       "        [0.00046054, 0.00100889, 0.00060507, ..., 0.00048977,\n",
       "         0.0011859 , 0.0005929 ],\n",
       "        [0.00046054, 0.00100889, 0.00060507, ..., 0.00048977,\n",
       "         0.0011859 , 0.0005929 ],\n",
       "        ...,\n",
       "        [0.00046054, 0.00100889, 0.00060507, ..., 0.00048977,\n",
       "         0.0011859 , 0.0005929 ],\n",
       "        [0.00046054, 0.00100889, 0.00060507, ..., 0.00048977,\n",
       "         0.0011859 , 0.0005929 ],\n",
       "        [0.00046054, 0.00100889, 0.00060507, ..., 0.00048977,\n",
       "         0.0011859 , 0.0005929 ]]], dtype=float32)"
      ]
     },
     "execution_count": 14,
     "metadata": {},
     "output_type": "execute_result"
    }
   ],
   "source": [
    "y_test_pred"
   ]
  },
  {
   "cell_type": "code",
   "execution_count": null,
   "metadata": {},
   "outputs": [],
   "source": []
  }
 ],
 "metadata": {
  "kernelspec": {
   "display_name": "ChopAI",
   "language": "python",
   "name": "python3"
  },
  "language_info": {
   "codemirror_mode": {
    "name": "ipython",
    "version": 3
   },
   "file_extension": ".py",
   "mimetype": "text/x-python",
   "name": "python",
   "nbconvert_exporter": "python",
   "pygments_lexer": "ipython3",
   "version": "3.10.6"
  },
  "orig_nbformat": 4
 },
 "nbformat": 4,
 "nbformat_minor": 2
}
